{
 "cells": [
  {
   "cell_type": "markdown",
   "id": "199409f7",
   "metadata": {},
   "source": [
    "# Data Science Tools and Ecosystem"
   ]
  },
  {
   "cell_type": "markdown",
   "id": "d16a3b55",
   "metadata": {},
   "source": [
    "In this notebook, Data Science Tools and Ecosystem are summarized."
   ]
  },
  {
   "cell_type": "markdown",
   "id": "65044166",
   "metadata": {},
   "source": [
    "# Objectives\n",
    "* Different types of tools that data scientist use\n",
    "* Intoduction to python, R and SQL etc...\n",
    "* Introduction to API's ex-REST request and response\n",
    "* Getting started with Jupyter Notebooks\n",
    "* Inroduction to R and RStudio, data visualization using ggplot.\n",
    "* Getting stared with Git\\Github.\n",
    "* Setting up Watson Studio etc...\n"
   ]
  },
  {
   "cell_type": "markdown",
   "id": "609d01a3",
   "metadata": {},
   "source": [
    "Some of the popular languages that Data Scientists use are:\n",
    "1. Python\n",
    "2. R\n",
    "3. SQL"
   ]
  },
  {
   "cell_type": "markdown",
   "id": "538f204c",
   "metadata": {},
   "source": [
    "Some of the commonly used libraries used by Data Scientists include:\n",
    "1. Numpy\n",
    "2. Pandas\n",
    "3. Seaborn"
   ]
  },
  {
   "cell_type": "markdown",
   "id": "1e4db0d4",
   "metadata": {},
   "source": [
    "# Data science Tools\n",
    "1. jupyter Notebook\n",
    "2. Rstudios\n",
    "3. Apache Zeppelin "
   ]
  },
  {
   "cell_type": "markdown",
   "id": "496ed9f2",
   "metadata": {},
   "source": [
    "### Below are a few examples of evaluating arithmetic expressions in Python"
   ]
  },
  {
   "cell_type": "code",
   "execution_count": 1,
   "id": "49879d10",
   "metadata": {},
   "outputs": [
    {
     "name": "stdout",
     "output_type": "stream",
     "text": [
      "17\n"
     ]
    }
   ],
   "source": [
    "# This a simple arithmetic expression to mutiply then add integers\n",
    "print((3*4)+5)"
   ]
  },
  {
   "cell_type": "code",
   "execution_count": 2,
   "id": "a48790f0",
   "metadata": {},
   "outputs": [
    {
     "name": "stdout",
     "output_type": "stream",
     "text": [
      "3.3333333333333335\n"
     ]
    }
   ],
   "source": [
    "# This will convert 200 minutes to hours by diving by 60\n",
    "minutes = 200\n",
    "hours = minutes/60\n",
    "print(hours)"
   ]
  },
  {
   "cell_type": "markdown",
   "id": "25948fdf",
   "metadata": {},
   "source": [
    "## Author\n",
    "Pavan M"
   ]
  },
  {
   "cell_type": "code",
   "execution_count": null,
   "id": "81225e56",
   "metadata": {},
   "outputs": [],
   "source": []
  }
 ],
 "metadata": {
  "kernelspec": {
   "display_name": "Python 3 (ipykernel)",
   "language": "python",
   "name": "python3"
  },
  "language_info": {
   "codemirror_mode": {
    "name": "ipython",
    "version": 3
   },
   "file_extension": ".py",
   "mimetype": "text/x-python",
   "name": "python",
   "nbconvert_exporter": "python",
   "pygments_lexer": "ipython3",
   "version": "3.11.5"
  }
 },
 "nbformat": 4,
 "nbformat_minor": 5
}
